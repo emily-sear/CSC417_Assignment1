{
 "cells": [
  {
   "cell_type": "code",
   "execution_count": 2,
   "id": "da5d54a3",
   "metadata": {},
   "outputs": [],
   "source": [
    "from statemachine import StateMachine, State"
   ]
  },
  {
   "cell_type": "code",
   "execution_count": 10,
   "id": "00e14d95",
   "metadata": {},
   "outputs": [],
   "source": [
    "class GroceryStoreMachine(StateMachine):\n",
    "    make_list = State(\"Make List\", initial=True)\n",
    "    find_item_on_list = State(\"Find item on list\")\n",
    "    put_in_cart = State(\"Put item into cart\")\n",
    "    find_cash_register = State(\"Find cash register\")\n",
    "    scan_item = State(\"Scan item\")\n",
    "    call_worker = State(\"Call worker over\")\n",
    "    put_item_in_bag = State(\"Put item in bag\")\n",
    "    pay = State(\"Pay for groceries\")\n",
    "    leave_store = State(\"Leave store\", final=True)\n",
    "    \n",
    "    go_to_store = make_list.to(find_item_on_list)\n",
    "    pick_up_item = find_item_on_list.to(put_in_cart)\n",
    "    list_not_complete = put_in_cart.to(find_item_on_list)\n",
    "    list_complete = put_in_cart.to(find_cash_register)\n",
    "    wait_for_empty_register = find_cash_register.to(scan_item)\n",
    "    no_issues_scanning = scan_item.to(put_item_in_bag)\n",
    "    issues_scanning = scan_item.to(call_worker)\n",
    "    issue_resolved = call_worker.to(put_item_in_bag)\n",
    "    cart_not_empty = put_item_in_bag.to(scan_item)\n",
    "    cart_empty = put_item_in_bag.to(pay)\n",
    "    place_items_into_cart = pay.to(leave_store)"
   ]
  },
  {
   "cell_type": "code",
   "execution_count": 11,
   "id": "778444a8",
   "metadata": {},
   "outputs": [],
   "source": [
    "groceryStoreMachine = GroceryStoreMachine()"
   ]
  },
  {
   "cell_type": "code",
   "execution_count": 12,
   "id": "e29d4ac0",
   "metadata": {},
   "outputs": [
    {
     "data": {
      "text/plain": [
       "'find_item_on_list'"
      ]
     },
     "execution_count": 12,
     "metadata": {},
     "output_type": "execute_result"
    }
   ],
   "source": [
    "groceryStoreMachine.go_to_store()\n",
    "groceryStoreMachine.current_state.id"
   ]
  },
  {
   "cell_type": "code",
   "execution_count": 13,
   "id": "f5ffa202",
   "metadata": {},
   "outputs": [
    {
     "data": {
      "text/plain": [
       "'put_in_cart'"
      ]
     },
     "execution_count": 13,
     "metadata": {},
     "output_type": "execute_result"
    }
   ],
   "source": [
    "groceryStoreMachine.pick_up_item()\n",
    "groceryStoreMachine.current_state.id"
   ]
  },
  {
   "cell_type": "code",
   "execution_count": 14,
   "id": "b3b4d7c7",
   "metadata": {},
   "outputs": [
    {
     "data": {
      "text/plain": [
       "'find_item_on_list'"
      ]
     },
     "execution_count": 14,
     "metadata": {},
     "output_type": "execute_result"
    }
   ],
   "source": [
    "groceryStoreMachine.list_not_complete()\n",
    "groceryStoreMachine.current_state.id"
   ]
  },
  {
   "cell_type": "code",
   "execution_count": 15,
   "id": "fecc383a",
   "metadata": {},
   "outputs": [
    {
     "data": {
      "text/plain": [
       "'put_in_cart'"
      ]
     },
     "execution_count": 15,
     "metadata": {},
     "output_type": "execute_result"
    }
   ],
   "source": [
    "groceryStoreMachine.pick_up_item()\n",
    "groceryStoreMachine.current_state.id"
   ]
  },
  {
   "cell_type": "code",
   "execution_count": 16,
   "id": "9ecae1be",
   "metadata": {},
   "outputs": [
    {
     "data": {
      "text/plain": [
       "'find_cash_register'"
      ]
     },
     "execution_count": 16,
     "metadata": {},
     "output_type": "execute_result"
    }
   ],
   "source": [
    "groceryStoreMachine.list_complete()\n",
    "groceryStoreMachine.current_state.id"
   ]
  },
  {
   "cell_type": "code",
   "execution_count": 18,
   "id": "f0c22b59",
   "metadata": {},
   "outputs": [
    {
     "data": {
      "text/plain": [
       "'scan_item'"
      ]
     },
     "execution_count": 18,
     "metadata": {},
     "output_type": "execute_result"
    }
   ],
   "source": [
    "groceryStoreMachine.wait_for_empty_register()\n",
    "groceryStoreMachine.current_state.id"
   ]
  },
  {
   "cell_type": "code",
   "execution_count": 20,
   "id": "81955cfd",
   "metadata": {},
   "outputs": [
    {
     "data": {
      "text/plain": [
       "'put_item_in_bag'"
      ]
     },
     "execution_count": 20,
     "metadata": {},
     "output_type": "execute_result"
    }
   ],
   "source": [
    "groceryStoreMachine.no_issues_scanning()\n",
    "groceryStoreMachine.current_state.id"
   ]
  },
  {
   "cell_type": "code",
   "execution_count": 21,
   "id": "92d45a9c",
   "metadata": {},
   "outputs": [
    {
     "data": {
      "text/plain": [
       "'scan_item'"
      ]
     },
     "execution_count": 21,
     "metadata": {},
     "output_type": "execute_result"
    }
   ],
   "source": [
    "groceryStoreMachine.cart_not_empty()\n",
    "groceryStoreMachine.current_state.id"
   ]
  },
  {
   "cell_type": "code",
   "execution_count": 22,
   "id": "c58960af",
   "metadata": {},
   "outputs": [
    {
     "data": {
      "text/plain": [
       "'call_worker'"
      ]
     },
     "execution_count": 22,
     "metadata": {},
     "output_type": "execute_result"
    }
   ],
   "source": [
    "groceryStoreMachine.issues_scanning()\n",
    "groceryStoreMachine.current_state.id"
   ]
  },
  {
   "cell_type": "code",
   "execution_count": 23,
   "id": "949ebde7",
   "metadata": {},
   "outputs": [
    {
     "data": {
      "text/plain": [
       "'put_item_in_bag'"
      ]
     },
     "execution_count": 23,
     "metadata": {},
     "output_type": "execute_result"
    }
   ],
   "source": [
    "groceryStoreMachine.issue_resolved()\n",
    "groceryStoreMachine.current_state.id"
   ]
  },
  {
   "cell_type": "code",
   "execution_count": 24,
   "id": "68528fd1",
   "metadata": {},
   "outputs": [
    {
     "data": {
      "text/plain": [
       "'pay'"
      ]
     },
     "execution_count": 24,
     "metadata": {},
     "output_type": "execute_result"
    }
   ],
   "source": [
    "groceryStoreMachine.cart_empty()\n",
    "groceryStoreMachine.current_state.id"
   ]
  },
  {
   "cell_type": "code",
   "execution_count": 25,
   "id": "dc5b2c87",
   "metadata": {},
   "outputs": [
    {
     "data": {
      "text/plain": [
       "'leave_store'"
      ]
     },
     "execution_count": 25,
     "metadata": {},
     "output_type": "execute_result"
    }
   ],
   "source": [
    "groceryStoreMachine.place_items_into_cart()\n",
    "groceryStoreMachine.current_state.id"
   ]
  },
  {
   "cell_type": "code",
   "execution_count": null,
   "id": "a81ce239",
   "metadata": {},
   "outputs": [],
   "source": []
  }
 ],
 "metadata": {
  "kernelspec": {
   "display_name": "Python 3",
   "language": "python",
   "name": "python3"
  },
  "language_info": {
   "codemirror_mode": {
    "name": "ipython",
    "version": 3
   },
   "file_extension": ".py",
   "mimetype": "text/x-python",
   "name": "python",
   "nbconvert_exporter": "python",
   "pygments_lexer": "ipython3",
   "version": "3.8.8"
  }
 },
 "nbformat": 4,
 "nbformat_minor": 5
}
